import numpy as np
from sklearn.metrics import mean_squared_error

# Small dataset (User-Item ratings)
ratings = np.array([
    [5, 3, 0, 1],
    [4, 0, 0, 1],
    [1, 1, 0, 5],
    [1, 0, 0, 4],
    [0, 1, 5, 4],
])

# Matrix Factorization parameters
num_users, num_items = ratings.shape
latent_features = 2
alpha = 0.01  # Learning rate
epochs = 5000

# Initialize latent matrices
user_matrix = np.random.rand(num_users, latent_features)
item_matrix = np.random.rand(num_items, latent_features)

# Training loop
for epoch in range(epochs):
    for i in range(num_users):
        for j in range(num_items):
            if ratings[i, j] > 0:  # Only compute for existing ratings
                error = ratings[i, j] - np.dot(user_matrix[i, :], item_matrix[j, :])
                # Gradient Descent Update
                user_matrix[i, :] += alpha * error * item_matrix[j, :]
                item_matrix[j, :] += alpha * error * user_matrix[i, :]

# Predicted ratings
predicted_ratings = np.dot(user_matrix, item_matrix.T)

# Evaluation (MSE)
true_ratings = ratings[ratings > 0]
predicted_values = predicted_ratings[ratings > 0]
mse = mean_squared_error(true_ratings, predicted_values)
print("Mean Squared Error:", mse)
print("Predicted Ratings:\n", np.round(predicted_ratings, 2))
